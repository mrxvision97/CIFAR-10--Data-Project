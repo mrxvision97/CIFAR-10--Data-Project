{
 "cells": [
  {
   "cell_type": "markdown",
   "id": "e93baf2f",
   "metadata": {},
   "source": [
    "# CIFAR-10 Dataset"
   ]
  },
  {
   "cell_type": "markdown",
   "id": "162266b2",
   "metadata": {},
   "source": [
    "Importing necessary Libraries"
   ]
  },
  {
   "cell_type": "code",
   "execution_count": 35,
   "id": "cc4b5726",
   "metadata": {},
   "outputs": [],
   "source": [
    "import matplotlib.pyplot as plt\n",
    "import numpy as np\n",
    "import pandas as pd\n",
    "\n",
    "#To ignore Warnings\n",
    "\n",
    "import warnings             \n",
    "warnings.filterwarnings('ignore')"
   ]
  },
  {
   "cell_type": "code",
   "execution_count": 82,
   "id": "b82bf00b",
   "metadata": {},
   "outputs": [],
   "source": [
    "# Function to unpickle data\n",
    "\n",
    "def unpickle(file):\n",
    "    import pickle\n",
    "    with open(file, 'rb') as fo:\n",
    "        data = pickle.load(fo, encoding='bytes')\n",
    "    return data"
   ]
  },
  {
   "cell_type": "code",
   "execution_count": null,
   "id": "45018b38",
   "metadata": {},
   "outputs": [],
   "source": [
    "# Load data from batch 5\n",
    "\n",
    "data_batch5 = unpickle('data_batch_5')"
   ]
  },
  {
   "cell_type": "code",
   "execution_count": 38,
   "id": "a8d56d83",
   "metadata": {},
   "outputs": [
    {
     "data": {
      "text/plain": [
       "dict"
      ]
     },
     "execution_count": 38,
     "metadata": {},
     "output_type": "execute_result"
    }
   ],
   "source": [
    "type(data_batch5)   #checking datatype of file"
   ]
  },
  {
   "cell_type": "code",
   "execution_count": 39,
   "id": "36f4731a",
   "metadata": {},
   "outputs": [
    {
     "data": {
      "text/plain": [
       "4"
      ]
     },
     "execution_count": 39,
     "metadata": {},
     "output_type": "execute_result"
    }
   ],
   "source": [
    "len(data_batch5)   #checking length of data_batch5"
   ]
  },
  {
   "cell_type": "code",
   "execution_count": 40,
   "id": "47f3c9a8",
   "metadata": {},
   "outputs": [
    {
     "data": {
      "text/plain": [
       "(10000, 3072)"
      ]
     },
     "execution_count": 40,
     "metadata": {},
     "output_type": "execute_result"
    }
   ],
   "source": [
    "data_batch5[b'data'].shape    #Check the shape of the image data"
   ]
  },
  {
   "cell_type": "code",
   "execution_count": 41,
   "id": "493cdda6",
   "metadata": {},
   "outputs": [
    {
     "data": {
      "text/plain": [
       "array([255, 252, 253, ..., 173, 231, 248], dtype=uint8)"
      ]
     },
     "execution_count": 41,
     "metadata": {},
     "output_type": "execute_result"
    }
   ],
   "source": [
    "data_batch5[b'data'][0]      "
   ]
  },
  {
   "cell_type": "code",
   "execution_count": 43,
   "id": "90f428f4",
   "metadata": {},
   "outputs": [
    {
     "data": {
      "text/plain": [
       "array([[[255, 252, 253, ..., 165, 243, 254],\n",
       "        [255, 252, 254, ..., 130, 225, 253],\n",
       "        [255, 254, 248, ..., 141, 220, 253],\n",
       "        ...,\n",
       "        [233, 216, 241, ...,   9,  18, 169],\n",
       "        [255, 255, 253, ...,  21, 113, 235],\n",
       "        [255, 251, 253, ..., 172, 230, 247]],\n",
       "\n",
       "       [[255, 252, 252, ..., 177, 246, 253],\n",
       "        [255, 252, 254, ..., 144, 232, 255],\n",
       "        [255, 254, 247, ..., 155, 227, 255],\n",
       "        ...,\n",
       "        [234, 216, 241, ...,  11,  19, 171],\n",
       "        [255, 255, 253, ...,  23, 115, 237],\n",
       "        [255, 251, 253, ..., 174, 232, 248]],\n",
       "\n",
       "       [[254, 252, 254, ..., 184, 247, 252],\n",
       "        [254, 252, 255, ..., 161, 239, 255],\n",
       "        [255, 254, 249, ..., 175, 235, 255],\n",
       "        ...,\n",
       "        [234, 216, 241, ...,  11,  19, 170],\n",
       "        [255, 255, 253, ...,  22, 114, 236],\n",
       "        [255, 251, 253, ..., 173, 231, 248]]], dtype=uint8)"
      ]
     },
     "execution_count": 43,
     "metadata": {},
     "output_type": "execute_result"
    }
   ],
   "source": [
    "image=data_batch5[b'data'][0]      #Extract and reshape the image data\n",
    "image=image.reshape(3,32,32)\n",
    "image"
   ]
  },
  {
   "cell_type": "code",
   "execution_count": 86,
   "id": "618f2848",
   "metadata": {
    "scrolled": false
   },
   "outputs": [
    {
     "name": "stdout",
     "output_type": "stream",
     "text": [
      "(10000, 32, 32, 3)\n"
     ]
    }
   ],
   "source": [
    "# Reshape the entire dataset and transpose dimensions\n",
    "\n",
    "data=data_batch5[b'data']\n",
    "labels = data_batch5[b'labels']\n",
    "data=data.reshape(len(data),3,32,32).transpose(0,2,3,1)\n",
    "\n",
    "#Display the Shape of the reshaped data\n",
    "\n",
    "print(data.shape)    \n"
   ]
  },
  {
   "cell_type": "code",
   "execution_count": 88,
   "id": "ae5423f7",
   "metadata": {},
   "outputs": [
    {
     "data": {
      "text/plain": [
       "<matplotlib.image.AxesImage at 0x1ba8b91f4c0>"
      ]
     },
     "execution_count": 88,
     "metadata": {},
     "output_type": "execute_result"
    },
    {
     "data": {
      "image/png": "[encoded data removed]",
      "text/plain": [
       "<Figure size 640x480 with 1 Axes>"
      ]
     },
     "metadata": {},
     "output_type": "display_data"
    }
   ],
   "source": [
    "plt.imshow(data[0])  # Display the first image"
   ]
  },
  {
   "cell_type": "code",
   "execution_count": 77,
   "id": "e6822620",
   "metadata": {},
   "outputs": [],
   "source": [
    "batch_no=5"
   ]
  },
  {
   "cell_type": "code",
   "execution_count": 45,
   "id": "c9cfa857",
   "metadata": {},
   "outputs": [],
   "source": [
    "data_list=[]"
   ]
  },
  {
   "cell_type": "code",
   "execution_count": 89,
   "id": "6f57c6fb",
   "metadata": {},
   "outputs": [],
   "source": [
    "# Create a list for data in the desired format for a DataFrame\n",
    "\n",
    "for i in range(len(data)):\n",
    "    d1=data[i].flatten()\n",
    "    labels = data_batch5[b'labels']\n",
    "    \n",
    "    label= labels[i] #Extract the label (assuming it's a 1D array)\n",
    "    \n",
    "    data_list.append([label]+list(d1))\n",
    "    "
   ]
  },
  {
   "cell_type": "code",
   "execution_count": 91,
   "id": "8369f51f",
   "metadata": {},
   "outputs": [],
   "source": [
    "labels = data_batch5[b'labels']   # Creating a list of labels\n",
    "#print(labels)"
   ]
  },
  {
   "cell_type": "code",
   "execution_count": 98,
   "id": "dabad69c",
   "metadata": {},
   "outputs": [],
   "source": [
    "# Define column names for the DataFrame\n",
    "\n",
    "column1=['label']+[f'Pixel_{i}' for i in range(len(data_list[0])-1)]"
   ]
  },
  {
   "cell_type": "code",
   "execution_count": 99,
   "id": "6357fc87",
   "metadata": {},
   "outputs": [],
   "source": [
    "df=pd.DataFrame(data_list,columns=column1)   # Create a DataFrame"
   ]
  },
  {
   "cell_type": "code",
   "execution_count": 100,
   "id": "3c11f5e6",
   "metadata": {},
   "outputs": [
    {
     "data": {
      "text/plain": [
       "(20000, 3073)"
      ]
     },
     "execution_count": 100,
     "metadata": {},
     "output_type": "execute_result"
    }
   ],
   "source": [
    "df.shape      #Shape of the DataFrame"
   ]
  },
  {
   "cell_type": "code",
   "execution_count": 101,
   "id": "0f8ca771",
   "metadata": {},
   "outputs": [],
   "source": [
    "# Save the DataFrame to a CSV file\n",
    "\n",
    "csv_filename = f'cifar10_batch_{batch_no}.csv'\n",
    "df.to_csv(\"Batch_5\", index=False)"
   ]
  },
  {
   "cell_type": "code",
   "execution_count": 102,
   "id": "5d4248e1",
   "metadata": {},
   "outputs": [
    {
     "data": {
      "text/html": [
       "<div>\n",
       "<style scoped>\n",
       "    .dataframe tbody tr th:only-of-type {\n",
       "        vertical-align: middle;\n",
       "    }\n",
       "\n",
       "    .dataframe tbody tr th {\n",
       "        vertical-align: top;\n",
       "    }\n",
       "\n",
       "    .dataframe thead th {\n",
       "        text-align: right;\n",
       "    }\n",
       "</style>\n",
       "<table border=\"1\" class=\"dataframe\">\n",
       "  <thead>\n",
       "    <tr style=\"text-align: right;\">\n",
       "      <th></th>\n",
       "      <th>label</th>\n",
       "      <th>Pixel_0</th>\n",
       "      <th>Pixel_1</th>\n",
       "      <th>Pixel_2</th>\n",
       "      <th>Pixel_3</th>\n",
       "      <th>Pixel_4</th>\n",
       "      <th>Pixel_5</th>\n",
       "      <th>Pixel_6</th>\n",
       "      <th>Pixel_7</th>\n",
       "      <th>Pixel_8</th>\n",
       "      <th>...</th>\n",
       "      <th>Pixel_3062</th>\n",
       "      <th>Pixel_3063</th>\n",
       "      <th>Pixel_3064</th>\n",
       "      <th>Pixel_3065</th>\n",
       "      <th>Pixel_3066</th>\n",
       "      <th>Pixel_3067</th>\n",
       "      <th>Pixel_3068</th>\n",
       "      <th>Pixel_3069</th>\n",
       "      <th>Pixel_3070</th>\n",
       "      <th>Pixel_3071</th>\n",
       "    </tr>\n",
       "  </thead>\n",
       "  <tbody>\n",
       "    <tr>\n",
       "      <th>0</th>\n",
       "      <td>1</td>\n",
       "      <td>-1</td>\n",
       "      <td>-1</td>\n",
       "      <td>-2</td>\n",
       "      <td>-4</td>\n",
       "      <td>-4</td>\n",
       "      <td>-4</td>\n",
       "      <td>-3</td>\n",
       "      <td>-4</td>\n",
       "      <td>-2</td>\n",
       "      <td>...</td>\n",
       "      <td>-84</td>\n",
       "      <td>-84</td>\n",
       "      <td>-82</td>\n",
       "      <td>-83</td>\n",
       "      <td>-26</td>\n",
       "      <td>-24</td>\n",
       "      <td>-25</td>\n",
       "      <td>-9</td>\n",
       "      <td>-8</td>\n",
       "      <td>-8</td>\n",
       "    </tr>\n",
       "    <tr>\n",
       "      <th>1</th>\n",
       "      <td>8</td>\n",
       "      <td>127</td>\n",
       "      <td>-111</td>\n",
       "      <td>-89</td>\n",
       "      <td>126</td>\n",
       "      <td>-112</td>\n",
       "      <td>-90</td>\n",
       "      <td>127</td>\n",
       "      <td>-111</td>\n",
       "      <td>-89</td>\n",
       "      <td>...</td>\n",
       "      <td>89</td>\n",
       "      <td>72</td>\n",
       "      <td>90</td>\n",
       "      <td>102</td>\n",
       "      <td>78</td>\n",
       "      <td>96</td>\n",
       "      <td>108</td>\n",
       "      <td>82</td>\n",
       "      <td>100</td>\n",
       "      <td>112</td>\n",
       "    </tr>\n",
       "    <tr>\n",
       "      <th>2</th>\n",
       "      <td>5</td>\n",
       "      <td>116</td>\n",
       "      <td>71</td>\n",
       "      <td>26</td>\n",
       "      <td>64</td>\n",
       "      <td>34</td>\n",
       "      <td>10</td>\n",
       "      <td>19</td>\n",
       "      <td>6</td>\n",
       "      <td>2</td>\n",
       "      <td>...</td>\n",
       "      <td>8</td>\n",
       "      <td>44</td>\n",
       "      <td>25</td>\n",
       "      <td>7</td>\n",
       "      <td>41</td>\n",
       "      <td>22</td>\n",
       "      <td>6</td>\n",
       "      <td>38</td>\n",
       "      <td>19</td>\n",
       "      <td>5</td>\n",
       "    </tr>\n",
       "    <tr>\n",
       "      <th>3</th>\n",
       "      <td>1</td>\n",
       "      <td>-51</td>\n",
       "      <td>-51</td>\n",
       "      <td>-55</td>\n",
       "      <td>-43</td>\n",
       "      <td>-45</td>\n",
       "      <td>-47</td>\n",
       "      <td>-21</td>\n",
       "      <td>-23</td>\n",
       "      <td>-27</td>\n",
       "      <td>...</td>\n",
       "      <td>23</td>\n",
       "      <td>18</td>\n",
       "      <td>20</td>\n",
       "      <td>24</td>\n",
       "      <td>19</td>\n",
       "      <td>22</td>\n",
       "      <td>25</td>\n",
       "      <td>18</td>\n",
       "      <td>20</td>\n",
       "      <td>23</td>\n",
       "    </tr>\n",
       "    <tr>\n",
       "      <th>4</th>\n",
       "      <td>5</td>\n",
       "      <td>-67</td>\n",
       "      <td>-82</td>\n",
       "      <td>120</td>\n",
       "      <td>-72</td>\n",
       "      <td>-86</td>\n",
       "      <td>-125</td>\n",
       "      <td>-75</td>\n",
       "      <td>-90</td>\n",
       "      <td>-114</td>\n",
       "      <td>...</td>\n",
       "      <td>72</td>\n",
       "      <td>82</td>\n",
       "      <td>100</td>\n",
       "      <td>76</td>\n",
       "      <td>84</td>\n",
       "      <td>101</td>\n",
       "      <td>77</td>\n",
       "      <td>81</td>\n",
       "      <td>94</td>\n",
       "      <td>72</td>\n",
       "    </tr>\n",
       "  </tbody>\n",
       "</table>\n",
       "<p>5 rows × 3073 columns</p>\n",
       "</div>"
      ],
      "text/plain": [
       "   label  Pixel_0  Pixel_1  Pixel_2  Pixel_3  Pixel_4  Pixel_5  Pixel_6  \\\n",
       "0      1       -1       -1       -2       -4       -4       -4       -3   \n",
       "1      8      127     -111      -89      126     -112      -90      127   \n",
       "2      5      116       71       26       64       34       10       19   \n",
       "3      1      -51      -51      -55      -43      -45      -47      -21   \n",
       "4      5      -67      -82      120      -72      -86     -125      -75   \n",
       "\n",
       "   Pixel_7  Pixel_8  ...  Pixel_3062  Pixel_3063  Pixel_3064  Pixel_3065  \\\n",
       "0       -4       -2  ...         -84         -84         -82         -83   \n",
       "1     -111      -89  ...          89          72          90         102   \n",
       "2        6        2  ...           8          44          25           7   \n",
       "3      -23      -27  ...          23          18          20          24   \n",
       "4      -90     -114  ...          72          82         100          76   \n",
       "\n",
       "   Pixel_3066  Pixel_3067  Pixel_3068  Pixel_3069  Pixel_3070  Pixel_3071  \n",
       "0         -26         -24         -25          -9          -8          -8  \n",
       "1          78          96         108          82         100         112  \n",
       "2          41          22           6          38          19           5  \n",
       "3          19          22          25          18          20          23  \n",
       "4          84         101          77          81          94          72  \n",
       "\n",
       "[5 rows x 3073 columns]"
      ]
     },
     "execution_count": 102,
     "metadata": {},
     "output_type": "execute_result"
    }
   ],
   "source": [
    "df.head(5)   #Display the shape and the first 5 rows of the DataFrame"
   ]
  },
  {
   "cell_type": "code",
   "execution_count": 94,
   "id": "f788c2f0",
   "metadata": {},
   "outputs": [
    {
     "data": {
      "text/plain": [
       "2"
      ]
     },
     "execution_count": 94,
     "metadata": {},
     "output_type": "execute_result"
    }
   ],
   "source": [
    "df.ndim    #Check dimensionality of data frame"
   ]
  },
  {
   "cell_type": "code",
   "execution_count": null,
   "id": "dfdabd1a",
   "metadata": {},
   "outputs": [],
   "source": []
  }
 ],
 "metadata": {
  "kernelspec": {
   "display_name": "Python 3 (ipykernel)",
   "language": "python",
   "name": "python3"
  },
  "language_info": {
   "codemirror_mode": {
    "name": "ipython",
    "version": 3
   },
   "file_extension": ".py",
   "mimetype": "text/x-python",
   "name": "python",
   "nbconvert_exporter": "python",
   "pygments_lexer": "ipython3",
   "version": "3.9.13"
  }
 },
 "nbformat": 4,
 "nbformat_minor": 5
}
