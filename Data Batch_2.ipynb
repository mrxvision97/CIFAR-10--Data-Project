{
 "cells": [
  {
   "cell_type": "markdown",
   "id": "f88ebc99",
   "metadata": {},
   "source": [
    "# CIFAR-10 Dataset"
   ]
  },
  {
   "cell_type": "markdown",
   "id": "f796a905",
   "metadata": {},
   "source": [
    "Importing necessary Libraries"
   ]
  },
  {
   "cell_type": "code",
   "execution_count": 1,
   "id": "cc4b5726",
   "metadata": {},
   "outputs": [],
   "source": [
    "import matplotlib.pyplot as plt\n",
    "import numpy as np\n",
    "import pandas as pd\n",
    "\n",
    "#To ignore Warnings\n",
    "\n",
    "import warnings             \n",
    "warnings.filterwarnings('ignore')"
   ]
  },
  {
   "cell_type": "code",
   "execution_count": 2,
   "id": "cf110853",
   "metadata": {},
   "outputs": [],
   "source": [
    "# Function to unpickle data\n",
    "\n",
    "def unpickle(file):\n",
    "    import pickle\n",
    "    with open(file, 'rb') as fo:\n",
    "        data = pickle.load(fo, encoding='bytes')\n",
    "    return data"
   ]
  },
  {
   "cell_type": "code",
   "execution_count": 5,
   "id": "236d25e3",
   "metadata": {},
   "outputs": [],
   "source": [
    "# Load data from batch 2\n",
    "\n",
    "data_batch2 = unpickle('data_batch_2')"
   ]
  },
  {
   "cell_type": "code",
   "execution_count": 6,
   "id": "a8d56d83",
   "metadata": {},
   "outputs": [
    {
     "data": {
      "text/plain": [
       "dict"
      ]
     },
     "execution_count": 6,
     "metadata": {},
     "output_type": "execute_result"
    }
   ],
   "source": [
    "type(data_batch2)   #checking datatype of file"
   ]
  },
  {
   "cell_type": "code",
   "execution_count": 7,
   "id": "36f4731a",
   "metadata": {},
   "outputs": [
    {
     "data": {
      "text/plain": [
       "4"
      ]
     },
     "execution_count": 7,
     "metadata": {},
     "output_type": "execute_result"
    }
   ],
   "source": [
    "len(data_batch2)   #checking length of data_batch5"
   ]
  },
  {
   "cell_type": "code",
   "execution_count": 8,
   "id": "47f3c9a8",
   "metadata": {},
   "outputs": [
    {
     "data": {
      "text/plain": [
       "(10000, 3072)"
      ]
     },
     "execution_count": 8,
     "metadata": {},
     "output_type": "execute_result"
    }
   ],
   "source": [
    "data_batch3[b'data'].shape    #Check the shape of the image data"
   ]
  },
  {
   "cell_type": "code",
   "execution_count": 9,
   "id": "493cdda6",
   "metadata": {},
   "outputs": [
    {
     "data": {
      "text/plain": [
       "array([ 35,  27,  25, ..., 169, 168, 168], dtype=uint8)"
      ]
     },
     "execution_count": 9,
     "metadata": {},
     "output_type": "execute_result"
    }
   ],
   "source": [
    "data_batch2[b'data'][0]      "
   ]
  },
  {
   "cell_type": "code",
   "execution_count": 10,
   "id": "90f428f4",
   "metadata": {},
   "outputs": [
    {
     "data": {
      "text/plain": [
       "array([[[ 35,  27,  25, ..., 132, 133, 126],\n",
       "        [ 63,  32,  17, ..., 102, 105, 100],\n",
       "        [ 99,  49,  15, ...,  46,  52,  52],\n",
       "        ...,\n",
       "        [166, 164, 164, ..., 173, 170, 167],\n",
       "        [169, 169, 168, ..., 172, 168, 165],\n",
       "        [173, 175, 173, ..., 170, 168, 166]],\n",
       "\n",
       "       [[ 25,  21,  20, ..., 129, 121, 115],\n",
       "        [ 55,  27,  13, ...,  95,  89,  86],\n",
       "        [ 91,  45,  12, ...,  43,  41,  44],\n",
       "        ...,\n",
       "        [165, 163, 164, ..., 172, 170, 167],\n",
       "        [168, 168, 168, ..., 171, 167, 165],\n",
       "        [172, 174, 173, ..., 168, 167, 166]],\n",
       "\n",
       "       [[ 26,  21,  19, ..., 129, 116, 113],\n",
       "        [ 50,  21,   8, ...,  88,  76,  77],\n",
       "        [ 84,  37,   5, ...,  39,  34,  41],\n",
       "        ...,\n",
       "        [171, 166, 165, ..., 170, 168, 167],\n",
       "        [176, 173, 171, ..., 170, 167, 166],\n",
       "        [179, 178, 175, ..., 169, 168, 168]]], dtype=uint8)"
      ]
     },
     "execution_count": 10,
     "metadata": {},
     "output_type": "execute_result"
    }
   ],
   "source": [
    "image=data_batch2[b'data'][0]      #Extract and reshape the image data\n",
    "image=image.reshape(3,32,32)\n",
    "image"
   ]
  },
  {
   "cell_type": "code",
   "execution_count": 11,
   "id": "618f2848",
   "metadata": {
    "scrolled": false
   },
   "outputs": [
    {
     "name": "stdout",
     "output_type": "stream",
     "text": [
      "(10000, 32, 32, 3)\n"
     ]
    }
   ],
   "source": [
    "# Reshape the entire dataset and transpose dimensions\n",
    "\n",
    "data=data_batch2[b'data']\n",
    "labels = data_batch2[b'labels']\n",
    "data=data.reshape(len(data),3,32,32).transpose(0,2,3,1)\n",
    "\n",
    "#Display the Shape of the reshaped data\n",
    "\n",
    "print(data.shape)    \n"
   ]
  },
  {
   "cell_type": "code",
   "execution_count": 12,
   "id": "e5ded802",
   "metadata": {},
   "outputs": [
    {
     "data": {
      "text/plain": [
       "<matplotlib.image.AxesImage at 0x207b92a07c0>"
      ]
     },
     "execution_count": 12,
     "metadata": {},
     "output_type": "execute_result"
    },
    {
     "data": {
      "image/png": "[encoded data removed]",
      "text/plain": [
       "<Figure size 640x480 with 1 Axes>"
      ]
     },
     "metadata": {},
     "output_type": "display_data"
    }
   ],
   "source": [
    "plt.imshow(data[0])  # Display the first image"
   ]
  },
  {
   "cell_type": "code",
   "execution_count": 13,
   "id": "555b9384",
   "metadata": {},
   "outputs": [],
   "source": [
    "batch_no=2"
   ]
  },
  {
   "cell_type": "code",
   "execution_count": 14,
   "id": "c9cfa857",
   "metadata": {},
   "outputs": [],
   "source": [
    "data_list=[]"
   ]
  },
  {
   "cell_type": "code",
   "execution_count": 15,
   "id": "6f57c6fb",
   "metadata": {},
   "outputs": [],
   "source": [
    "# Create a list for data in the desired format for a DataFrame\n",
    "\n",
    "for i in range(len(data)):\n",
    "    d1=data[i].flatten()\n",
    "    labels = data_batch2[b'labels']\n",
    "    \n",
    "    label= labels[i] #Extract the label (assuming it's a 1D array)\n",
    "    \n",
    "    data_list.append([label]+list(d1))\n",
    "    "
   ]
  },
  {
   "cell_type": "code",
   "execution_count": 16,
   "id": "993e0a1b",
   "metadata": {},
   "outputs": [],
   "source": [
    "labels = data_batch2[b'labels']   # Creating a list of labels\n",
    "#print(labels)"
   ]
  },
  {
   "cell_type": "code",
   "execution_count": 17,
   "id": "dabad69c",
   "metadata": {},
   "outputs": [],
   "source": [
    "# Define column names for the DataFrame\n",
    "\n",
    "column1=['label']+[f'Pixel_{i}' for i in range(len(data_list[0])-1)]"
   ]
  },
  {
   "cell_type": "code",
   "execution_count": 18,
   "id": "6357fc87",
   "metadata": {},
   "outputs": [],
   "source": [
    "df=pd.DataFrame(data_list,columns=column1)   # Create a DataFrame"
   ]
  },
  {
   "cell_type": "code",
   "execution_count": 19,
   "id": "3c11f5e6",
   "metadata": {},
   "outputs": [
    {
     "data": {
      "text/plain": [
       "(10000, 3073)"
      ]
     },
     "execution_count": 19,
     "metadata": {},
     "output_type": "execute_result"
    }
   ],
   "source": [
    "df.shape      #Shape of the DataFrame"
   ]
  },
  {
   "cell_type": "code",
   "execution_count": 20,
   "id": "0f8ca771",
   "metadata": {},
   "outputs": [],
   "source": [
    "# Save the DataFrame to a CSV file\n",
    "\n",
    "csv_filename = f'cifar10_batch_{batch_no}.csv'\n",
    "df.to_csv(\"Batch2.csv\", index=False)"
   ]
  },
  {
   "cell_type": "code",
   "execution_count": 21,
   "id": "5d4248e1",
   "metadata": {},
   "outputs": [
    {
     "data": {
      "text/html": [
       "<div>\n",
       "<style scoped>\n",
       "    .dataframe tbody tr th:only-of-type {\n",
       "        vertical-align: middle;\n",
       "    }\n",
       "\n",
       "    .dataframe tbody tr th {\n",
       "        vertical-align: top;\n",
       "    }\n",
       "\n",
       "    .dataframe thead th {\n",
       "        text-align: right;\n",
       "    }\n",
       "</style>\n",
       "<table border=\"1\" class=\"dataframe\">\n",
       "  <thead>\n",
       "    <tr style=\"text-align: right;\">\n",
       "      <th></th>\n",
       "      <th>label</th>\n",
       "      <th>Pixel_0</th>\n",
       "      <th>Pixel_1</th>\n",
       "      <th>Pixel_2</th>\n",
       "      <th>Pixel_3</th>\n",
       "      <th>Pixel_4</th>\n",
       "      <th>Pixel_5</th>\n",
       "      <th>Pixel_6</th>\n",
       "      <th>Pixel_7</th>\n",
       "      <th>Pixel_8</th>\n",
       "      <th>...</th>\n",
       "      <th>Pixel_3062</th>\n",
       "      <th>Pixel_3063</th>\n",
       "      <th>Pixel_3064</th>\n",
       "      <th>Pixel_3065</th>\n",
       "      <th>Pixel_3066</th>\n",
       "      <th>Pixel_3067</th>\n",
       "      <th>Pixel_3068</th>\n",
       "      <th>Pixel_3069</th>\n",
       "      <th>Pixel_3070</th>\n",
       "      <th>Pixel_3071</th>\n",
       "    </tr>\n",
       "  </thead>\n",
       "  <tbody>\n",
       "    <tr>\n",
       "      <th>0</th>\n",
       "      <td>1</td>\n",
       "      <td>35</td>\n",
       "      <td>25</td>\n",
       "      <td>26</td>\n",
       "      <td>27</td>\n",
       "      <td>21</td>\n",
       "      <td>21</td>\n",
       "      <td>25</td>\n",
       "      <td>20</td>\n",
       "      <td>19</td>\n",
       "      <td>...</td>\n",
       "      <td>-87</td>\n",
       "      <td>-86</td>\n",
       "      <td>-88</td>\n",
       "      <td>-87</td>\n",
       "      <td>-88</td>\n",
       "      <td>-89</td>\n",
       "      <td>-88</td>\n",
       "      <td>-90</td>\n",
       "      <td>-90</td>\n",
       "      <td>-88</td>\n",
       "    </tr>\n",
       "    <tr>\n",
       "      <th>1</th>\n",
       "      <td>6</td>\n",
       "      <td>20</td>\n",
       "      <td>15</td>\n",
       "      <td>12</td>\n",
       "      <td>20</td>\n",
       "      <td>15</td>\n",
       "      <td>12</td>\n",
       "      <td>18</td>\n",
       "      <td>13</td>\n",
       "      <td>10</td>\n",
       "      <td>...</td>\n",
       "      <td>66</td>\n",
       "      <td>-101</td>\n",
       "      <td>-99</td>\n",
       "      <td>111</td>\n",
       "      <td>-120</td>\n",
       "      <td>-119</td>\n",
       "      <td>97</td>\n",
       "      <td>88</td>\n",
       "      <td>89</td>\n",
       "      <td>51</td>\n",
       "    </tr>\n",
       "    <tr>\n",
       "      <th>2</th>\n",
       "      <td>6</td>\n",
       "      <td>116</td>\n",
       "      <td>103</td>\n",
       "      <td>56</td>\n",
       "      <td>115</td>\n",
       "      <td>105</td>\n",
       "      <td>59</td>\n",
       "      <td>-101</td>\n",
       "      <td>-128</td>\n",
       "      <td>82</td>\n",
       "      <td>...</td>\n",
       "      <td>5</td>\n",
       "      <td>52</td>\n",
       "      <td>37</td>\n",
       "      <td>18</td>\n",
       "      <td>124</td>\n",
       "      <td>110</td>\n",
       "      <td>84</td>\n",
       "      <td>-101</td>\n",
       "      <td>-112</td>\n",
       "      <td>124</td>\n",
       "    </tr>\n",
       "    <tr>\n",
       "      <th>3</th>\n",
       "      <td>8</td>\n",
       "      <td>98</td>\n",
       "      <td>90</td>\n",
       "      <td>81</td>\n",
       "      <td>91</td>\n",
       "      <td>83</td>\n",
       "      <td>71</td>\n",
       "      <td>82</td>\n",
       "      <td>75</td>\n",
       "      <td>61</td>\n",
       "      <td>...</td>\n",
       "      <td>120</td>\n",
       "      <td>73</td>\n",
       "      <td>101</td>\n",
       "      <td>125</td>\n",
       "      <td>78</td>\n",
       "      <td>105</td>\n",
       "      <td>-124</td>\n",
       "      <td>82</td>\n",
       "      <td>109</td>\n",
       "      <td>-118</td>\n",
       "    </tr>\n",
       "    <tr>\n",
       "      <th>4</th>\n",
       "      <td>8</td>\n",
       "      <td>85</td>\n",
       "      <td>103</td>\n",
       "      <td>-118</td>\n",
       "      <td>102</td>\n",
       "      <td>121</td>\n",
       "      <td>-100</td>\n",
       "      <td>109</td>\n",
       "      <td>127</td>\n",
       "      <td>-93</td>\n",
       "      <td>...</td>\n",
       "      <td>71</td>\n",
       "      <td>8</td>\n",
       "      <td>23</td>\n",
       "      <td>64</td>\n",
       "      <td>7</td>\n",
       "      <td>20</td>\n",
       "      <td>65</td>\n",
       "      <td>8</td>\n",
       "      <td>19</td>\n",
       "      <td>66</td>\n",
       "    </tr>\n",
       "  </tbody>\n",
       "</table>\n",
       "<p>5 rows × 3073 columns</p>\n",
       "</div>"
      ],
      "text/plain": [
       "   label  Pixel_0  Pixel_1  Pixel_2  Pixel_3  Pixel_4  Pixel_5  Pixel_6  \\\n",
       "0      1       35       25       26       27       21       21       25   \n",
       "1      6       20       15       12       20       15       12       18   \n",
       "2      6      116      103       56      115      105       59     -101   \n",
       "3      8       98       90       81       91       83       71       82   \n",
       "4      8       85      103     -118      102      121     -100      109   \n",
       "\n",
       "   Pixel_7  Pixel_8  ...  Pixel_3062  Pixel_3063  Pixel_3064  Pixel_3065  \\\n",
       "0       20       19  ...         -87         -86         -88         -87   \n",
       "1       13       10  ...          66        -101         -99         111   \n",
       "2     -128       82  ...           5          52          37          18   \n",
       "3       75       61  ...         120          73         101         125   \n",
       "4      127      -93  ...          71           8          23          64   \n",
       "\n",
       "   Pixel_3066  Pixel_3067  Pixel_3068  Pixel_3069  Pixel_3070  Pixel_3071  \n",
       "0         -88         -89         -88         -90         -90         -88  \n",
       "1        -120        -119          97          88          89          51  \n",
       "2         124         110          84        -101        -112         124  \n",
       "3          78         105        -124          82         109        -118  \n",
       "4           7          20          65           8          19          66  \n",
       "\n",
       "[5 rows x 3073 columns]"
      ]
     },
     "execution_count": 21,
     "metadata": {},
     "output_type": "execute_result"
    }
   ],
   "source": [
    "df.head(5)   #Display the shape and the first 5 rows of the DataFrame"
   ]
  },
  {
   "cell_type": "code",
   "execution_count": 22,
   "id": "f788c2f0",
   "metadata": {},
   "outputs": [
    {
     "data": {
      "text/plain": [
       "2"
      ]
     },
     "execution_count": 22,
     "metadata": {},
     "output_type": "execute_result"
    }
   ],
   "source": [
    "df.ndim    #Check dimensionality of data frame"
   ]
  },
  {
   "cell_type": "code",
   "execution_count": null,
   "id": "dfdabd1a",
   "metadata": {},
   "outputs": [],
   "source": []
  }
 ],
 "metadata": {
  "kernelspec": {
   "display_name": "Python 3 (ipykernel)",
   "language": "python",
   "name": "python3"
  },
  "language_info": {
   "codemirror_mode": {
    "name": "ipython",
    "version": 3
   },
   "file_extension": ".py",
   "mimetype": "text/x-python",
   "name": "python",
   "nbconvert_exporter": "python",
   "pygments_lexer": "ipython3",
   "version": "3.9.13"
  }
 },
 "nbformat": 4,
 "nbformat_minor": 5
}
