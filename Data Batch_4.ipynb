{
 "cells": [
  {
   "cell_type": "markdown",
   "id": "e93baf2f",
   "metadata": {},
   "source": [
    "# CIFAR-10 Dataset"
   ]
  },
  {
   "cell_type": "markdown",
   "id": "162266b2",
   "metadata": {},
   "source": [
    "Importing necessary Libraries"
   ]
  },
  {
   "cell_type": "code",
   "execution_count": 1,
   "id": "cc4b5726",
   "metadata": {},
   "outputs": [],
   "source": [
    "import matplotlib.pyplot as plt\n",
    "import numpy as np\n",
    "import pandas as pd\n",
    "\n",
    "#To ignore Warnings\n",
    "\n",
    "import warnings             \n",
    "warnings.filterwarnings('ignore')"
   ]
  },
  {
   "cell_type": "code",
   "execution_count": 2,
   "id": "b82bf00b",
   "metadata": {},
   "outputs": [],
   "source": [
    "# Function to unpickle data\n",
    "\n",
    "def unpickle(file):\n",
    "    import pickle\n",
    "    with open(file, 'rb') as fo:\n",
    "        data = pickle.load(fo, encoding='bytes')\n",
    "    return data"
   ]
  },
  {
   "cell_type": "code",
   "execution_count": 6,
   "id": "45018b38",
   "metadata": {},
   "outputs": [],
   "source": [
    "# Load data from batch 4\n",
    "\n",
    "data_batch4 = unpickle('data_batch_4')"
   ]
  },
  {
   "cell_type": "code",
   "execution_count": 7,
   "id": "a8d56d83",
   "metadata": {},
   "outputs": [
    {
     "data": {
      "text/plain": [
       "dict"
      ]
     },
     "execution_count": 7,
     "metadata": {},
     "output_type": "execute_result"
    }
   ],
   "source": [
    "type(data_batch4)   #checking datatype of file"
   ]
  },
  {
   "cell_type": "code",
   "execution_count": 8,
   "id": "36f4731a",
   "metadata": {},
   "outputs": [
    {
     "data": {
      "text/plain": [
       "4"
      ]
     },
     "execution_count": 8,
     "metadata": {},
     "output_type": "execute_result"
    }
   ],
   "source": [
    "len(data_batch4)   #checking length of data_batch5"
   ]
  },
  {
   "cell_type": "code",
   "execution_count": 9,
   "id": "47f3c9a8",
   "metadata": {},
   "outputs": [
    {
     "data": {
      "text/plain": [
       "(10000, 3072)"
      ]
     },
     "execution_count": 9,
     "metadata": {},
     "output_type": "execute_result"
    }
   ],
   "source": [
    "data_batch4[b'data'].shape    #Check the shape of the image data"
   ]
  },
  {
   "cell_type": "code",
   "execution_count": 10,
   "id": "493cdda6",
   "metadata": {},
   "outputs": [
    {
     "data": {
      "text/plain": [
       "array([178, 178, 178, ...,  80,  80,  77], dtype=uint8)"
      ]
     },
     "execution_count": 10,
     "metadata": {},
     "output_type": "execute_result"
    }
   ],
   "source": [
    "data_batch4[b'data'][0]      "
   ]
  },
  {
   "cell_type": "code",
   "execution_count": 11,
   "id": "90f428f4",
   "metadata": {},
   "outputs": [
    {
     "data": {
      "text/plain": [
       "array([[[178, 178, 178, ..., 170, 168, 165],\n",
       "        [180, 179, 180, ..., 173, 171, 168],\n",
       "        [177, 177, 178, ..., 171, 169, 167],\n",
       "        ...,\n",
       "        [112, 113, 114, ..., 100,  98, 101],\n",
       "        [112, 112, 113, ..., 102, 102, 102],\n",
       "        [103, 100, 103, ...,  92,  93,  91]],\n",
       "\n",
       "       [[176, 176, 176, ..., 168, 166, 163],\n",
       "        [178, 177, 178, ..., 171, 169, 166],\n",
       "        [175, 175, 176, ..., 169, 167, 165],\n",
       "        ...,\n",
       "        [107, 109, 110, ...,  97,  94,  95],\n",
       "        [102, 103, 103, ...,  95,  93,  92],\n",
       "        [ 96,  93,  95, ...,  84,  86,  84]],\n",
       "\n",
       "       [[189, 189, 189, ..., 180, 177, 174],\n",
       "        [191, 190, 191, ..., 182, 180, 177],\n",
       "        [188, 188, 189, ..., 180, 178, 176],\n",
       "        ...,\n",
       "        [107, 108, 110, ...,  94,  93,  95],\n",
       "        [101, 102, 103, ...,  93,  91,  91],\n",
       "        [ 92,  90,  94, ...,  80,  80,  77]]], dtype=uint8)"
      ]
     },
     "execution_count": 11,
     "metadata": {},
     "output_type": "execute_result"
    }
   ],
   "source": [
    "image=data_batch4[b'data'][0]      #Extract and reshape the image data\n",
    "image=image.reshape(3,32,32)\n",
    "image"
   ]
  },
  {
   "cell_type": "code",
   "execution_count": 13,
   "id": "618f2848",
   "metadata": {
    "scrolled": false
   },
   "outputs": [
    {
     "name": "stdout",
     "output_type": "stream",
     "text": [
      "(10000, 32, 32, 3)\n"
     ]
    }
   ],
   "source": [
    "# Reshape the entire dataset and transpose dimensions\n",
    "\n",
    "data=data_batch4[b'data']\n",
    "labels = data_batch4[b'labels']\n",
    "data=data.reshape(len(data),3,32,32).transpose(0,2,3,1)\n",
    "\n",
    "#Display the Shape of the reshaped data\n",
    "\n",
    "print(data.shape)    \n"
   ]
  },
  {
   "cell_type": "code",
   "execution_count": 14,
   "id": "ae5423f7",
   "metadata": {},
   "outputs": [
    {
     "data": {
      "text/plain": [
       "<matplotlib.image.AxesImage at 0x25fd6431850>"
      ]
     },
     "execution_count": 14,
     "metadata": {},
     "output_type": "execute_result"
    },
    {
     "data": {
      "image/png": "[encoded data removed]",
      "text/plain": [
       "<Figure size 640x480 with 1 Axes>"
      ]
     },
     "metadata": {},
     "output_type": "display_data"
    }
   ],
   "source": [
    "plt.imshow(data[0])  # Display the first image"
   ]
  },
  {
   "cell_type": "code",
   "execution_count": 15,
   "id": "e6822620",
   "metadata": {},
   "outputs": [],
   "source": [
    "batch_no=4"
   ]
  },
  {
   "cell_type": "code",
   "execution_count": 16,
   "id": "c9cfa857",
   "metadata": {},
   "outputs": [],
   "source": [
    "data_list=[]"
   ]
  },
  {
   "cell_type": "code",
   "execution_count": 17,
   "id": "6f57c6fb",
   "metadata": {},
   "outputs": [],
   "source": [
    "# Create a list for data in the desired format for a DataFrame\n",
    "\n",
    "for i in range(len(data)):\n",
    "    d1=data[i].flatten()\n",
    "    labels = data_batch4[b'labels']\n",
    "    \n",
    "    label= labels[i] #Extract the label (assuming it's a 1D array)\n",
    "    \n",
    "    data_list.append([label]+list(d1))\n",
    "    "
   ]
  },
  {
   "cell_type": "code",
   "execution_count": 18,
   "id": "8369f51f",
   "metadata": {},
   "outputs": [],
   "source": [
    "labels = data_batch4[b'labels']   # Creating a list of labels\n",
    "#print(labels)"
   ]
  },
  {
   "cell_type": "code",
   "execution_count": 19,
   "id": "dabad69c",
   "metadata": {},
   "outputs": [],
   "source": [
    "# Define column names for the DataFrame\n",
    "\n",
    "column1=['label']+[f'Pixel_{i}' for i in range(len(data_list[0])-1)]"
   ]
  },
  {
   "cell_type": "code",
   "execution_count": 20,
   "id": "6357fc87",
   "metadata": {},
   "outputs": [],
   "source": [
    "df=pd.DataFrame(data_list,columns=column1)   # Create a DataFrame"
   ]
  },
  {
   "cell_type": "code",
   "execution_count": 21,
   "id": "3c11f5e6",
   "metadata": {},
   "outputs": [
    {
     "data": {
      "text/plain": [
       "(10000, 3073)"
      ]
     },
     "execution_count": 21,
     "metadata": {},
     "output_type": "execute_result"
    }
   ],
   "source": [
    "df.shape      #Shape of the DataFrame"
   ]
  },
  {
   "cell_type": "code",
   "execution_count": 25,
   "id": "0f8ca771",
   "metadata": {},
   "outputs": [],
   "source": [
    "# Save the DataFrame to a CSV file\n",
    "\n",
    "csv_filename = f'cifar10_batch_{batch_no}.csv'\n",
    "df.to_csv(\"Batch_4.csv\", index=False)"
   ]
  },
  {
   "cell_type": "code",
   "execution_count": 26,
   "id": "5d4248e1",
   "metadata": {},
   "outputs": [
    {
     "data": {
      "text/html": [
       "<div>\n",
       "<style scoped>\n",
       "    .dataframe tbody tr th:only-of-type {\n",
       "        vertical-align: middle;\n",
       "    }\n",
       "\n",
       "    .dataframe tbody tr th {\n",
       "        vertical-align: top;\n",
       "    }\n",
       "\n",
       "    .dataframe thead th {\n",
       "        text-align: right;\n",
       "    }\n",
       "</style>\n",
       "<table border=\"1\" class=\"dataframe\">\n",
       "  <thead>\n",
       "    <tr style=\"text-align: right;\">\n",
       "      <th></th>\n",
       "      <th>label</th>\n",
       "      <th>Pixel_0</th>\n",
       "      <th>Pixel_1</th>\n",
       "      <th>Pixel_2</th>\n",
       "      <th>Pixel_3</th>\n",
       "      <th>Pixel_4</th>\n",
       "      <th>Pixel_5</th>\n",
       "      <th>Pixel_6</th>\n",
       "      <th>Pixel_7</th>\n",
       "      <th>Pixel_8</th>\n",
       "      <th>...</th>\n",
       "      <th>Pixel_3062</th>\n",
       "      <th>Pixel_3063</th>\n",
       "      <th>Pixel_3064</th>\n",
       "      <th>Pixel_3065</th>\n",
       "      <th>Pixel_3066</th>\n",
       "      <th>Pixel_3067</th>\n",
       "      <th>Pixel_3068</th>\n",
       "      <th>Pixel_3069</th>\n",
       "      <th>Pixel_3070</th>\n",
       "      <th>Pixel_3071</th>\n",
       "    </tr>\n",
       "  </thead>\n",
       "  <tbody>\n",
       "    <tr>\n",
       "      <th>0</th>\n",
       "      <td>0</td>\n",
       "      <td>-78</td>\n",
       "      <td>-80</td>\n",
       "      <td>-67</td>\n",
       "      <td>-78</td>\n",
       "      <td>-80</td>\n",
       "      <td>-67</td>\n",
       "      <td>-78</td>\n",
       "      <td>-80</td>\n",
       "      <td>-67</td>\n",
       "      <td>...</td>\n",
       "      <td>80</td>\n",
       "      <td>92</td>\n",
       "      <td>84</td>\n",
       "      <td>80</td>\n",
       "      <td>93</td>\n",
       "      <td>86</td>\n",
       "      <td>80</td>\n",
       "      <td>91</td>\n",
       "      <td>84</td>\n",
       "      <td>77</td>\n",
       "    </tr>\n",
       "    <tr>\n",
       "      <th>1</th>\n",
       "      <td>6</td>\n",
       "      <td>29</td>\n",
       "      <td>43</td>\n",
       "      <td>10</td>\n",
       "      <td>22</td>\n",
       "      <td>36</td>\n",
       "      <td>4</td>\n",
       "      <td>25</td>\n",
       "      <td>37</td>\n",
       "      <td>16</td>\n",
       "      <td>...</td>\n",
       "      <td>29</td>\n",
       "      <td>22</td>\n",
       "      <td>26</td>\n",
       "      <td>29</td>\n",
       "      <td>24</td>\n",
       "      <td>28</td>\n",
       "      <td>31</td>\n",
       "      <td>23</td>\n",
       "      <td>27</td>\n",
       "      <td>30</td>\n",
       "    </tr>\n",
       "    <tr>\n",
       "      <th>2</th>\n",
       "      <td>0</td>\n",
       "      <td>36</td>\n",
       "      <td>65</td>\n",
       "      <td>102</td>\n",
       "      <td>33</td>\n",
       "      <td>55</td>\n",
       "      <td>108</td>\n",
       "      <td>21</td>\n",
       "      <td>47</td>\n",
       "      <td>118</td>\n",
       "      <td>...</td>\n",
       "      <td>-81</td>\n",
       "      <td>-74</td>\n",
       "      <td>-80</td>\n",
       "      <td>-83</td>\n",
       "      <td>-75</td>\n",
       "      <td>-84</td>\n",
       "      <td>-86</td>\n",
       "      <td>-76</td>\n",
       "      <td>-84</td>\n",
       "      <td>-86</td>\n",
       "    </tr>\n",
       "    <tr>\n",
       "      <th>3</th>\n",
       "      <td>2</td>\n",
       "      <td>30</td>\n",
       "      <td>75</td>\n",
       "      <td>23</td>\n",
       "      <td>45</td>\n",
       "      <td>95</td>\n",
       "      <td>39</td>\n",
       "      <td>44</td>\n",
       "      <td>94</td>\n",
       "      <td>35</td>\n",
       "      <td>...</td>\n",
       "      <td>107</td>\n",
       "      <td>120</td>\n",
       "      <td>-126</td>\n",
       "      <td>106</td>\n",
       "      <td>118</td>\n",
       "      <td>123</td>\n",
       "      <td>99</td>\n",
       "      <td>-98</td>\n",
       "      <td>-96</td>\n",
       "      <td>-109</td>\n",
       "    </tr>\n",
       "    <tr>\n",
       "      <th>4</th>\n",
       "      <td>7</td>\n",
       "      <td>35</td>\n",
       "      <td>55</td>\n",
       "      <td>42</td>\n",
       "      <td>80</td>\n",
       "      <td>100</td>\n",
       "      <td>85</td>\n",
       "      <td>89</td>\n",
       "      <td>109</td>\n",
       "      <td>91</td>\n",
       "      <td>...</td>\n",
       "      <td>104</td>\n",
       "      <td>123</td>\n",
       "      <td>-114</td>\n",
       "      <td>107</td>\n",
       "      <td>122</td>\n",
       "      <td>-123</td>\n",
       "      <td>110</td>\n",
       "      <td>101</td>\n",
       "      <td>108</td>\n",
       "      <td>92</td>\n",
       "    </tr>\n",
       "  </tbody>\n",
       "</table>\n",
       "<p>5 rows × 3073 columns</p>\n",
       "</div>"
      ],
      "text/plain": [
       "   label  Pixel_0  Pixel_1  Pixel_2  Pixel_3  Pixel_4  Pixel_5  Pixel_6  \\\n",
       "0      0      -78      -80      -67      -78      -80      -67      -78   \n",
       "1      6       29       43       10       22       36        4       25   \n",
       "2      0       36       65      102       33       55      108       21   \n",
       "3      2       30       75       23       45       95       39       44   \n",
       "4      7       35       55       42       80      100       85       89   \n",
       "\n",
       "   Pixel_7  Pixel_8  ...  Pixel_3062  Pixel_3063  Pixel_3064  Pixel_3065  \\\n",
       "0      -80      -67  ...          80          92          84          80   \n",
       "1       37       16  ...          29          22          26          29   \n",
       "2       47      118  ...         -81         -74         -80         -83   \n",
       "3       94       35  ...         107         120        -126         106   \n",
       "4      109       91  ...         104         123        -114         107   \n",
       "\n",
       "   Pixel_3066  Pixel_3067  Pixel_3068  Pixel_3069  Pixel_3070  Pixel_3071  \n",
       "0          93          86          80          91          84          77  \n",
       "1          24          28          31          23          27          30  \n",
       "2         -75         -84         -86         -76         -84         -86  \n",
       "3         118         123          99         -98         -96        -109  \n",
       "4         122        -123         110         101         108          92  \n",
       "\n",
       "[5 rows x 3073 columns]"
      ]
     },
     "execution_count": 26,
     "metadata": {},
     "output_type": "execute_result"
    }
   ],
   "source": [
    "df.head(5)   #Display the shape and the first 5 rows of the DataFrame"
   ]
  },
  {
   "cell_type": "code",
   "execution_count": 27,
   "id": "f788c2f0",
   "metadata": {},
   "outputs": [
    {
     "data": {
      "text/plain": [
       "2"
      ]
     },
     "execution_count": 27,
     "metadata": {},
     "output_type": "execute_result"
    }
   ],
   "source": [
    "df.ndim    #Check dimensionality of data frame"
   ]
  },
  {
   "cell_type": "code",
   "execution_count": null,
   "id": "dfdabd1a",
   "metadata": {},
   "outputs": [],
   "source": []
  }
 ],
 "metadata": {
  "kernelspec": {
   "display_name": "Python 3 (ipykernel)",
   "language": "python",
   "name": "python3"
  },
  "language_info": {
   "codemirror_mode": {
    "name": "ipython",
    "version": 3
   },
   "file_extension": ".py",
   "mimetype": "text/x-python",
   "name": "python",
   "nbconvert_exporter": "python",
   "pygments_lexer": "ipython3",
   "version": "3.9.13"
  }
 },
 "nbformat": 4,
 "nbformat_minor": 5
}
