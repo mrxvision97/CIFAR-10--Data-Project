{
 "cells": [
  {
   "cell_type": "markdown",
   "id": "f88ebc99",
   "metadata": {},
   "source": [
    "# CIFAR-10 Dataset"
   ]
  },
  {
   "cell_type": "markdown",
   "id": "f796a905",
   "metadata": {},
   "source": [
    "Importing necessary Libraries"
   ]
  },
  {
   "cell_type": "code",
   "execution_count": 1,
   "id": "cc4b5726",
   "metadata": {},
   "outputs": [],
   "source": [
    "import matplotlib.pyplot as plt\n",
    "import numpy as np\n",
    "import pandas as pd\n",
    "\n",
    "#To ignore Warnings\n",
    "\n",
    "import warnings             \n",
    "warnings.filterwarnings('ignore')"
   ]
  },
  {
   "cell_type": "code",
   "execution_count": 2,
   "id": "cf110853",
   "metadata": {},
   "outputs": [],
   "source": [
    "# Function to unpickle data\n",
    "\n",
    "def unpickle(file):\n",
    "    import pickle\n",
    "    with open(file, 'rb') as fo:\n",
    "        data = pickle.load(fo, encoding='bytes')\n",
    "    return data"
   ]
  },
  {
   "cell_type": "code",
   "execution_count": 7,
   "id": "236d25e3",
   "metadata": {},
   "outputs": [],
   "source": [
    "# Load data from batch 3\n",
    "\n",
    "data_batch3 = unpickle('data_batch_3')"
   ]
  },
  {
   "cell_type": "code",
   "execution_count": 8,
   "id": "a8d56d83",
   "metadata": {},
   "outputs": [
    {
     "data": {
      "text/plain": [
       "dict"
      ]
     },
     "execution_count": 8,
     "metadata": {},
     "output_type": "execute_result"
    }
   ],
   "source": [
    "type(data_batch3)   #checking datatype of file"
   ]
  },
  {
   "cell_type": "code",
   "execution_count": 9,
   "id": "36f4731a",
   "metadata": {},
   "outputs": [
    {
     "data": {
      "text/plain": [
       "4"
      ]
     },
     "execution_count": 9,
     "metadata": {},
     "output_type": "execute_result"
    }
   ],
   "source": [
    "len(data_batch3)   #checking length of data_batch5"
   ]
  },
  {
   "cell_type": "code",
   "execution_count": 10,
   "id": "47f3c9a8",
   "metadata": {},
   "outputs": [
    {
     "data": {
      "text/plain": [
       "(10000, 3072)"
      ]
     },
     "execution_count": 10,
     "metadata": {},
     "output_type": "execute_result"
    }
   ],
   "source": [
    "data_batch3[b'data'].shape    #Check the shape of the image data"
   ]
  },
  {
   "cell_type": "code",
   "execution_count": 11,
   "id": "493cdda6",
   "metadata": {},
   "outputs": [
    {
     "data": {
      "text/plain": [
       "array([26, 17, 13, ..., 27, 26, 27], dtype=uint8)"
      ]
     },
     "execution_count": 11,
     "metadata": {},
     "output_type": "execute_result"
    }
   ],
   "source": [
    "data_batch3[b'data'][0]      "
   ]
  },
  {
   "cell_type": "code",
   "execution_count": 12,
   "id": "90f428f4",
   "metadata": {},
   "outputs": [
    {
     "data": {
      "text/plain": [
       "array([[[ 26,  17,  13, ...,  15,  24,  22],\n",
       "        [ 20,  13,  13, ...,  19,  21,  29],\n",
       "        [ 14,  13,  13, ...,  17,  25,  31],\n",
       "        ...,\n",
       "        [ 90,  34,  28, ...,  23,  16,   9],\n",
       "        [ 79,  58,  32, ...,  14,  16,  10],\n",
       "        [128,  58,  25, ...,  13,  12,  13]],\n",
       "\n",
       "       [[ 23,  14,   9, ...,  14,  24,  21],\n",
       "        [ 17,  10,   9, ...,  17,  20,  29],\n",
       "        [ 11,  10,   9, ...,  16,  24,  31],\n",
       "        ...,\n",
       "        [109,  64,  54, ...,  20,  13,   6],\n",
       "        [105,  96,  68, ...,  11,  13,   7],\n",
       "        [157,  93,  60, ...,  10,   9,  10]],\n",
       "\n",
       "       [[ 32,  25,  24, ...,  28,  37,  34],\n",
       "        [ 26,  22,  24, ...,  35,  35,  39],\n",
       "        [ 20,  21,  23, ...,  32,  38,  42],\n",
       "        ...,\n",
       "        [137,  95,  90, ...,  37,  30,  23],\n",
       "        [141, 139, 110, ...,  28,  30,  24],\n",
       "        [196, 149, 106, ...,  27,  26,  27]]], dtype=uint8)"
      ]
     },
     "execution_count": 12,
     "metadata": {},
     "output_type": "execute_result"
    }
   ],
   "source": [
    "image=data_batch3[b'data'][0]      #Extract and reshape the image data\n",
    "image=image.reshape(3,32,32)\n",
    "image"
   ]
  },
  {
   "cell_type": "code",
   "execution_count": 13,
   "id": "618f2848",
   "metadata": {
    "scrolled": false
   },
   "outputs": [
    {
     "name": "stdout",
     "output_type": "stream",
     "text": [
      "(10000, 32, 32, 3)\n"
     ]
    }
   ],
   "source": [
    "# Reshape the entire dataset and transpose dimensions\n",
    "\n",
    "data=data_batch3[b'data']\n",
    "labels = data_batch3[b'labels']\n",
    "data=data.reshape(len(data),3,32,32).transpose(0,2,3,1)\n",
    "\n",
    "#Display the Shape of the reshaped data\n",
    "\n",
    "print(data.shape)    \n"
   ]
  },
  {
   "cell_type": "code",
   "execution_count": 14,
   "id": "e5ded802",
   "metadata": {},
   "outputs": [
    {
     "data": {
      "text/plain": [
       "<matplotlib.image.AxesImage at 0x1ae9f8817f0>"
      ]
     },
     "execution_count": 14,
     "metadata": {},
     "output_type": "execute_result"
    },
    {
     "data": {
      "image/png": "[encoded data removed]",
      "text/plain": [
       "<Figure size 640x480 with 1 Axes>"
      ]
     },
     "metadata": {},
     "output_type": "display_data"
    }
   ],
   "source": [
    "plt.imshow(data[0])  # Display the first image"
   ]
  },
  {
   "cell_type": "code",
   "execution_count": 15,
   "id": "555b9384",
   "metadata": {},
   "outputs": [],
   "source": [
    "batch_no=3"
   ]
  },
  {
   "cell_type": "code",
   "execution_count": 16,
   "id": "c9cfa857",
   "metadata": {},
   "outputs": [],
   "source": [
    "data_list=[]"
   ]
  },
  {
   "cell_type": "code",
   "execution_count": 17,
   "id": "6f57c6fb",
   "metadata": {},
   "outputs": [],
   "source": [
    "# Create a list for data in the desired format for a DataFrame\n",
    "\n",
    "for i in range(len(data)):\n",
    "    d1=data[i].flatten()\n",
    "    labels = data_batch3[b'labels']\n",
    "    \n",
    "    label= labels[i] #Extract the label (assuming it's a 1D array)\n",
    "    \n",
    "    data_list.append([label]+list(d1))\n",
    "    "
   ]
  },
  {
   "cell_type": "code",
   "execution_count": 18,
   "id": "993e0a1b",
   "metadata": {},
   "outputs": [],
   "source": [
    "labels = data_batch3[b'labels']   # Creating a list of labels\n",
    "#print(labels)"
   ]
  },
  {
   "cell_type": "code",
   "execution_count": 19,
   "id": "dabad69c",
   "metadata": {},
   "outputs": [],
   "source": [
    "# Define column names for the DataFrame\n",
    "\n",
    "column1=['label']+[f'Pixel_{i}' for i in range(len(data_list[0])-1)]"
   ]
  },
  {
   "cell_type": "code",
   "execution_count": 20,
   "id": "6357fc87",
   "metadata": {},
   "outputs": [],
   "source": [
    "df=pd.DataFrame(data_list,columns=column1)   # Create a DataFrame"
   ]
  },
  {
   "cell_type": "code",
   "execution_count": 21,
   "id": "3c11f5e6",
   "metadata": {},
   "outputs": [
    {
     "data": {
      "text/plain": [
       "(10000, 3073)"
      ]
     },
     "execution_count": 21,
     "metadata": {},
     "output_type": "execute_result"
    }
   ],
   "source": [
    "df.shape      #Shape of the DataFrame"
   ]
  },
  {
   "cell_type": "code",
   "execution_count": 22,
   "id": "0f8ca771",
   "metadata": {},
   "outputs": [],
   "source": [
    "# Save the DataFrame to a CSV file\n",
    "\n",
    "csv_filename = f'cifar10_batch_{batch_no}.csv'\n",
    "df.to_csv(\"Batch3.csv\", index=False)"
   ]
  },
  {
   "cell_type": "code",
   "execution_count": 23,
   "id": "5d4248e1",
   "metadata": {},
   "outputs": [
    {
     "data": {
      "text/html": [
       "<div>\n",
       "<style scoped>\n",
       "    .dataframe tbody tr th:only-of-type {\n",
       "        vertical-align: middle;\n",
       "    }\n",
       "\n",
       "    .dataframe tbody tr th {\n",
       "        vertical-align: top;\n",
       "    }\n",
       "\n",
       "    .dataframe thead th {\n",
       "        text-align: right;\n",
       "    }\n",
       "</style>\n",
       "<table border=\"1\" class=\"dataframe\">\n",
       "  <thead>\n",
       "    <tr style=\"text-align: right;\">\n",
       "      <th></th>\n",
       "      <th>label</th>\n",
       "      <th>Pixel_0</th>\n",
       "      <th>Pixel_1</th>\n",
       "      <th>Pixel_2</th>\n",
       "      <th>Pixel_3</th>\n",
       "      <th>Pixel_4</th>\n",
       "      <th>Pixel_5</th>\n",
       "      <th>Pixel_6</th>\n",
       "      <th>Pixel_7</th>\n",
       "      <th>Pixel_8</th>\n",
       "      <th>...</th>\n",
       "      <th>Pixel_3062</th>\n",
       "      <th>Pixel_3063</th>\n",
       "      <th>Pixel_3064</th>\n",
       "      <th>Pixel_3065</th>\n",
       "      <th>Pixel_3066</th>\n",
       "      <th>Pixel_3067</th>\n",
       "      <th>Pixel_3068</th>\n",
       "      <th>Pixel_3069</th>\n",
       "      <th>Pixel_3070</th>\n",
       "      <th>Pixel_3071</th>\n",
       "    </tr>\n",
       "  </thead>\n",
       "  <tbody>\n",
       "    <tr>\n",
       "      <th>0</th>\n",
       "      <td>8</td>\n",
       "      <td>26</td>\n",
       "      <td>23</td>\n",
       "      <td>32</td>\n",
       "      <td>17</td>\n",
       "      <td>14</td>\n",
       "      <td>25</td>\n",
       "      <td>13</td>\n",
       "      <td>9</td>\n",
       "      <td>24</td>\n",
       "      <td>...</td>\n",
       "      <td>28</td>\n",
       "      <td>13</td>\n",
       "      <td>10</td>\n",
       "      <td>27</td>\n",
       "      <td>12</td>\n",
       "      <td>9</td>\n",
       "      <td>26</td>\n",
       "      <td>13</td>\n",
       "      <td>10</td>\n",
       "      <td>27</td>\n",
       "    </tr>\n",
       "    <tr>\n",
       "      <th>1</th>\n",
       "      <td>5</td>\n",
       "      <td>94</td>\n",
       "      <td>86</td>\n",
       "      <td>58</td>\n",
       "      <td>101</td>\n",
       "      <td>91</td>\n",
       "      <td>61</td>\n",
       "      <td>95</td>\n",
       "      <td>85</td>\n",
       "      <td>54</td>\n",
       "      <td>...</td>\n",
       "      <td>-82</td>\n",
       "      <td>-94</td>\n",
       "      <td>-92</td>\n",
       "      <td>-74</td>\n",
       "      <td>-93</td>\n",
       "      <td>-90</td>\n",
       "      <td>-72</td>\n",
       "      <td>-121</td>\n",
       "      <td>-119</td>\n",
       "      <td>-101</td>\n",
       "    </tr>\n",
       "    <tr>\n",
       "      <th>2</th>\n",
       "      <td>0</td>\n",
       "      <td>-73</td>\n",
       "      <td>-70</td>\n",
       "      <td>-78</td>\n",
       "      <td>-98</td>\n",
       "      <td>-89</td>\n",
       "      <td>-104</td>\n",
       "      <td>-90</td>\n",
       "      <td>-84</td>\n",
       "      <td>-96</td>\n",
       "      <td>...</td>\n",
       "      <td>-6</td>\n",
       "      <td>-6</td>\n",
       "      <td>-5</td>\n",
       "      <td>-6</td>\n",
       "      <td>-6</td>\n",
       "      <td>-6</td>\n",
       "      <td>-6</td>\n",
       "      <td>-6</td>\n",
       "      <td>-5</td>\n",
       "      <td>-6</td>\n",
       "    </tr>\n",
       "    <tr>\n",
       "      <th>3</th>\n",
       "      <td>6</td>\n",
       "      <td>-1</td>\n",
       "      <td>-1</td>\n",
       "      <td>-1</td>\n",
       "      <td>-2</td>\n",
       "      <td>-2</td>\n",
       "      <td>-2</td>\n",
       "      <td>-1</td>\n",
       "      <td>-1</td>\n",
       "      <td>-1</td>\n",
       "      <td>...</td>\n",
       "      <td>-1</td>\n",
       "      <td>-1</td>\n",
       "      <td>-1</td>\n",
       "      <td>-1</td>\n",
       "      <td>-1</td>\n",
       "      <td>-1</td>\n",
       "      <td>-1</td>\n",
       "      <td>-1</td>\n",
       "      <td>-1</td>\n",
       "      <td>-1</td>\n",
       "    </tr>\n",
       "    <tr>\n",
       "      <th>4</th>\n",
       "      <td>9</td>\n",
       "      <td>-74</td>\n",
       "      <td>-74</td>\n",
       "      <td>-85</td>\n",
       "      <td>-100</td>\n",
       "      <td>-101</td>\n",
       "      <td>-105</td>\n",
       "      <td>-100</td>\n",
       "      <td>-102</td>\n",
       "      <td>-100</td>\n",
       "      <td>...</td>\n",
       "      <td>68</td>\n",
       "      <td>-87</td>\n",
       "      <td>125</td>\n",
       "      <td>73</td>\n",
       "      <td>-88</td>\n",
       "      <td>121</td>\n",
       "      <td>67</td>\n",
       "      <td>-80</td>\n",
       "      <td>126</td>\n",
       "      <td>75</td>\n",
       "    </tr>\n",
       "  </tbody>\n",
       "</table>\n",
       "<p>5 rows × 3073 columns</p>\n",
       "</div>"
      ],
      "text/plain": [
       "   label  Pixel_0  Pixel_1  Pixel_2  Pixel_3  Pixel_4  Pixel_5  Pixel_6  \\\n",
       "0      8       26       23       32       17       14       25       13   \n",
       "1      5       94       86       58      101       91       61       95   \n",
       "2      0      -73      -70      -78      -98      -89     -104      -90   \n",
       "3      6       -1       -1       -1       -2       -2       -2       -1   \n",
       "4      9      -74      -74      -85     -100     -101     -105     -100   \n",
       "\n",
       "   Pixel_7  Pixel_8  ...  Pixel_3062  Pixel_3063  Pixel_3064  Pixel_3065  \\\n",
       "0        9       24  ...          28          13          10          27   \n",
       "1       85       54  ...         -82         -94         -92         -74   \n",
       "2      -84      -96  ...          -6          -6          -5          -6   \n",
       "3       -1       -1  ...          -1          -1          -1          -1   \n",
       "4     -102     -100  ...          68         -87         125          73   \n",
       "\n",
       "   Pixel_3066  Pixel_3067  Pixel_3068  Pixel_3069  Pixel_3070  Pixel_3071  \n",
       "0          12           9          26          13          10          27  \n",
       "1         -93         -90         -72        -121        -119        -101  \n",
       "2          -6          -6          -6          -6          -5          -6  \n",
       "3          -1          -1          -1          -1          -1          -1  \n",
       "4         -88         121          67         -80         126          75  \n",
       "\n",
       "[5 rows x 3073 columns]"
      ]
     },
     "execution_count": 23,
     "metadata": {},
     "output_type": "execute_result"
    }
   ],
   "source": [
    "df.head(5)   #Display the shape and the first 5 rows of the DataFrame"
   ]
  },
  {
   "cell_type": "code",
   "execution_count": 24,
   "id": "f788c2f0",
   "metadata": {},
   "outputs": [
    {
     "data": {
      "text/plain": [
       "2"
      ]
     },
     "execution_count": 24,
     "metadata": {},
     "output_type": "execute_result"
    }
   ],
   "source": [
    "df.ndim    #Check dimensionality of data frame"
   ]
  },
  {
   "cell_type": "code",
   "execution_count": null,
   "id": "dfdabd1a",
   "metadata": {},
   "outputs": [],
   "source": []
  }
 ],
 "metadata": {
  "kernelspec": {
   "display_name": "Python 3 (ipykernel)",
   "language": "python",
   "name": "python3"
  },
  "language_info": {
   "codemirror_mode": {
    "name": "ipython",
    "version": 3
   },
   "file_extension": ".py",
   "mimetype": "text/x-python",
   "name": "python",
   "nbconvert_exporter": "python",
   "pygments_lexer": "ipython3",
   "version": "3.9.13"
  }
 },
 "nbformat": 4,
 "nbformat_minor": 5
}
