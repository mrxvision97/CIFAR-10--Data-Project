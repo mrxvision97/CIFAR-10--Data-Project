{
 "cells": [
  {
   "cell_type": "markdown",
   "id": "f88ebc99",
   "metadata": {},
   "source": [
    "# CIFAR-10 Dataset"
   ]
  },
  {
   "cell_type": "markdown",
   "id": "f796a905",
   "metadata": {},
   "source": [
    "Importing necessary Libraries"
   ]
  },
  {
   "cell_type": "code",
   "execution_count": 27,
   "id": "cc4b5726",
   "metadata": {},
   "outputs": [],
   "source": [
    "import matplotlib.pyplot as plt\n",
    "import numpy as np\n",
    "import pandas as pd\n",
    "\n",
    "#To ignore Warnings\n",
    "\n",
    "import warnings             \n",
    "warnings.filterwarnings('ignore')"
   ]
  },
  {
   "cell_type": "code",
   "execution_count": 28,
   "id": "cf110853",
   "metadata": {},
   "outputs": [],
   "source": [
    "# Function to unpickle data\n",
    "\n",
    "def unpickle(file):\n",
    "    import pickle\n",
    "    with open(file, 'rb') as fo:\n",
    "        data = pickle.load(fo, encoding='bytes')\n",
    "    return data"
   ]
  },
  {
   "cell_type": "code",
   "execution_count": 29,
   "id": "236d25e3",
   "metadata": {},
   "outputs": [],
   "source": [
    "# Load data from Test_batch\n",
    "\n",
    "test_batch = unpickle('test_batch')"
   ]
  },
  {
   "cell_type": "code",
   "execution_count": 30,
   "id": "a8d56d83",
   "metadata": {},
   "outputs": [
    {
     "data": {
      "text/plain": [
       "dict"
      ]
     },
     "execution_count": 30,
     "metadata": {},
     "output_type": "execute_result"
    }
   ],
   "source": [
    "type(test_batch)   #checking datatype of file"
   ]
  },
  {
   "cell_type": "code",
   "execution_count": 31,
   "id": "36f4731a",
   "metadata": {},
   "outputs": [
    {
     "data": {
      "text/plain": [
       "4"
      ]
     },
     "execution_count": 31,
     "metadata": {},
     "output_type": "execute_result"
    }
   ],
   "source": [
    "len(test_batch)   #checking length of data_batch5"
   ]
  },
  {
   "cell_type": "code",
   "execution_count": 32,
   "id": "47f3c9a8",
   "metadata": {},
   "outputs": [
    {
     "data": {
      "text/plain": [
       "(10000, 3072)"
      ]
     },
     "execution_count": 32,
     "metadata": {},
     "output_type": "execute_result"
    }
   ],
   "source": [
    "test_batch[b'data'].shape    #Check the shape of the image data"
   ]
  },
  {
   "cell_type": "code",
   "execution_count": 33,
   "id": "493cdda6",
   "metadata": {},
   "outputs": [
    {
     "data": {
      "text/plain": [
       "array([158, 159, 165, ..., 124, 129, 110], dtype=uint8)"
      ]
     },
     "execution_count": 33,
     "metadata": {},
     "output_type": "execute_result"
    }
   ],
   "source": [
    "test_batch[b'data'][0]      "
   ]
  },
  {
   "cell_type": "code",
   "execution_count": 34,
   "id": "90f428f4",
   "metadata": {},
   "outputs": [
    {
     "data": {
      "text/plain": [
       "array([[[158, 159, 165, ..., 137, 126, 116],\n",
       "        [152, 151, 159, ..., 136, 125, 119],\n",
       "        [151, 151, 158, ..., 139, 130, 120],\n",
       "        ...,\n",
       "        [ 68,  42,  31, ...,  38,  13,  40],\n",
       "        [ 61,  49,  35, ...,  26,  29,  20],\n",
       "        [ 54,  56,  45, ...,  24,  34,  21]],\n",
       "\n",
       "       [[112, 111, 116, ...,  95,  91,  85],\n",
       "        [112, 110, 114, ...,  95,  91,  88],\n",
       "        [110, 109, 111, ...,  98,  95,  89],\n",
       "        ...,\n",
       "        [124, 100,  88, ...,  97,  64,  85],\n",
       "        [116, 102,  85, ...,  82,  82,  64],\n",
       "        [107, 105,  89, ...,  77,  84,  67]],\n",
       "\n",
       "       [[ 49,  47,  51, ...,  36,  36,  33],\n",
       "        [ 51,  40,  45, ...,  31,  32,  34],\n",
       "        [ 47,  33,  36, ...,  34,  34,  33],\n",
       "        ...,\n",
       "        [177, 148, 137, ..., 146, 108, 127],\n",
       "        [168, 148, 132, ..., 130, 126, 107],\n",
       "        [160, 149, 132, ..., 124, 129, 110]]], dtype=uint8)"
      ]
     },
     "execution_count": 34,
     "metadata": {},
     "output_type": "execute_result"
    }
   ],
   "source": [
    "image=test_batch[b'data'][0]      #Extract and reshape the image data\n",
    "image=image.reshape(3,32,32)\n",
    "image"
   ]
  },
  {
   "cell_type": "code",
   "execution_count": 35,
   "id": "618f2848",
   "metadata": {
    "scrolled": false
   },
   "outputs": [
    {
     "name": "stdout",
     "output_type": "stream",
     "text": [
      "(10000, 32, 32, 3)\n"
     ]
    }
   ],
   "source": [
    "# Reshape the entire dataset and transpose dimensions\n",
    "\n",
    "data=test_batch[b'data']\n",
    "labels = test_batch[b'labels']\n",
    "data=data.reshape(len(data),3,32,32).transpose(0,2,3,1)\n",
    "\n",
    "#Display the Shape of the reshaped data\n",
    "\n",
    "print(data.shape)    \n"
   ]
  },
  {
   "cell_type": "code",
   "execution_count": 36,
   "id": "e5ded802",
   "metadata": {},
   "outputs": [
    {
     "data": {
      "text/plain": [
       "<matplotlib.image.AxesImage at 0x2e5c5c6c8b0>"
      ]
     },
     "execution_count": 36,
     "metadata": {},
     "output_type": "execute_result"
    },
    {
     "data": {
      "image/png": "[encoded data removed]",
      "text/plain": [
       "<Figure size 640x480 with 1 Axes>"
      ]
     },
     "metadata": {},
     "output_type": "display_data"
    }
   ],
   "source": [
    "plt.imshow(data[0])  # Display the first image"
   ]
  },
  {
   "cell_type": "code",
   "execution_count": 37,
   "id": "555b9384",
   "metadata": {},
   "outputs": [],
   "source": [
    "test_batch=1"
   ]
  },
  {
   "cell_type": "code",
   "execution_count": 38,
   "id": "c9cfa857",
   "metadata": {},
   "outputs": [],
   "source": [
    "data_list=[]"
   ]
  },
  {
   "cell_type": "code",
   "execution_count": 54,
   "id": "6f57c6fb",
   "metadata": {},
   "outputs": [],
   "source": [
    "# Create a list for data in the desired format for a DataFrame\n",
    "\n",
    "for i in range(len(data)):\n",
    "    d1=data[i].flatten()     #here we don't have labels because this is the test set\n",
    "     \n",
    "    data_list.append(list(d1)) "
   ]
  },
  {
   "cell_type": "code",
   "execution_count": 48,
   "id": "dabad69c",
   "metadata": {},
   "outputs": [],
   "source": [
    "# Define column names for the DataFrame\n",
    "\n",
    "column1=[f'Pixel_{i}' for i in range(len(data_list[0]))]"
   ]
  },
  {
   "cell_type": "code",
   "execution_count": 49,
   "id": "6357fc87",
   "metadata": {},
   "outputs": [],
   "source": [
    "df=pd.DataFrame(data_list,columns=column1)   # Create a DataFrame"
   ]
  },
  {
   "cell_type": "code",
   "execution_count": 50,
   "id": "3c11f5e6",
   "metadata": {},
   "outputs": [
    {
     "data": {
      "text/plain": [
       "(10000, 3072)"
      ]
     },
     "execution_count": 50,
     "metadata": {},
     "output_type": "execute_result"
    }
   ],
   "source": [
    "df.shape      #Shape of the DataFrame"
   ]
  },
  {
   "cell_type": "code",
   "execution_count": 56,
   "id": "0f8ca771",
   "metadata": {},
   "outputs": [],
   "source": [
    "# Save the DataFrame to a CSV file\n",
    "\n",
    "csv_filename = f'cifar10_batch_{test_batch}.csv'\n",
    "df.to_csv(\"test_set.csv\", index=False)"
   ]
  },
  {
   "cell_type": "code",
   "execution_count": 57,
   "id": "5d4248e1",
   "metadata": {},
   "outputs": [
    {
     "data": {
      "text/html": [
       "<div>\n",
       "<style scoped>\n",
       "    .dataframe tbody tr th:only-of-type {\n",
       "        vertical-align: middle;\n",
       "    }\n",
       "\n",
       "    .dataframe tbody tr th {\n",
       "        vertical-align: top;\n",
       "    }\n",
       "\n",
       "    .dataframe thead th {\n",
       "        text-align: right;\n",
       "    }\n",
       "</style>\n",
       "<table border=\"1\" class=\"dataframe\">\n",
       "  <thead>\n",
       "    <tr style=\"text-align: right;\">\n",
       "      <th></th>\n",
       "      <th>Pixel_0</th>\n",
       "      <th>Pixel_1</th>\n",
       "      <th>Pixel_2</th>\n",
       "      <th>Pixel_3</th>\n",
       "      <th>Pixel_4</th>\n",
       "      <th>Pixel_5</th>\n",
       "      <th>Pixel_6</th>\n",
       "      <th>Pixel_7</th>\n",
       "      <th>Pixel_8</th>\n",
       "      <th>Pixel_9</th>\n",
       "      <th>...</th>\n",
       "      <th>Pixel_3062</th>\n",
       "      <th>Pixel_3063</th>\n",
       "      <th>Pixel_3064</th>\n",
       "      <th>Pixel_3065</th>\n",
       "      <th>Pixel_3066</th>\n",
       "      <th>Pixel_3067</th>\n",
       "      <th>Pixel_3068</th>\n",
       "      <th>Pixel_3069</th>\n",
       "      <th>Pixel_3070</th>\n",
       "      <th>Pixel_3071</th>\n",
       "    </tr>\n",
       "  </thead>\n",
       "  <tbody>\n",
       "    <tr>\n",
       "      <th>0</th>\n",
       "      <td>-98</td>\n",
       "      <td>112</td>\n",
       "      <td>49</td>\n",
       "      <td>-97</td>\n",
       "      <td>111</td>\n",
       "      <td>47</td>\n",
       "      <td>-91</td>\n",
       "      <td>116</td>\n",
       "      <td>51</td>\n",
       "      <td>-90</td>\n",
       "      <td>...</td>\n",
       "      <td>-111</td>\n",
       "      <td>24</td>\n",
       "      <td>77</td>\n",
       "      <td>124</td>\n",
       "      <td>34</td>\n",
       "      <td>84</td>\n",
       "      <td>-127</td>\n",
       "      <td>21</td>\n",
       "      <td>67</td>\n",
       "      <td>110</td>\n",
       "    </tr>\n",
       "    <tr>\n",
       "      <th>1</th>\n",
       "      <td>-21</td>\n",
       "      <td>-21</td>\n",
       "      <td>-21</td>\n",
       "      <td>-25</td>\n",
       "      <td>-25</td>\n",
       "      <td>-25</td>\n",
       "      <td>-24</td>\n",
       "      <td>-24</td>\n",
       "      <td>-24</td>\n",
       "      <td>-24</td>\n",
       "      <td>...</td>\n",
       "      <td>-93</td>\n",
       "      <td>-88</td>\n",
       "      <td>-73</td>\n",
       "      <td>-78</td>\n",
       "      <td>-76</td>\n",
       "      <td>-61</td>\n",
       "      <td>-65</td>\n",
       "      <td>-70</td>\n",
       "      <td>-56</td>\n",
       "      <td>-57</td>\n",
       "    </tr>\n",
       "    <tr>\n",
       "      <th>2</th>\n",
       "      <td>-98</td>\n",
       "      <td>-66</td>\n",
       "      <td>-34</td>\n",
       "      <td>-98</td>\n",
       "      <td>-69</td>\n",
       "      <td>-38</td>\n",
       "      <td>-117</td>\n",
       "      <td>-90</td>\n",
       "      <td>-62</td>\n",
       "      <td>-124</td>\n",
       "      <td>...</td>\n",
       "      <td>37</td>\n",
       "      <td>5</td>\n",
       "      <td>6</td>\n",
       "      <td>8</td>\n",
       "      <td>4</td>\n",
       "      <td>5</td>\n",
       "      <td>3</td>\n",
       "      <td>7</td>\n",
       "      <td>8</td>\n",
       "      <td>7</td>\n",
       "    </tr>\n",
       "    <tr>\n",
       "      <th>3</th>\n",
       "      <td>-101</td>\n",
       "      <td>-100</td>\n",
       "      <td>-107</td>\n",
       "      <td>-89</td>\n",
       "      <td>-80</td>\n",
       "      <td>-69</td>\n",
       "      <td>-80</td>\n",
       "      <td>-77</td>\n",
       "      <td>-63</td>\n",
       "      <td>-66</td>\n",
       "      <td>...</td>\n",
       "      <td>53</td>\n",
       "      <td>60</td>\n",
       "      <td>63</td>\n",
       "      <td>50</td>\n",
       "      <td>64</td>\n",
       "      <td>65</td>\n",
       "      <td>52</td>\n",
       "      <td>73</td>\n",
       "      <td>68</td>\n",
       "      <td>50</td>\n",
       "    </tr>\n",
       "    <tr>\n",
       "      <th>4</th>\n",
       "      <td>65</td>\n",
       "      <td>68</td>\n",
       "      <td>50</td>\n",
       "      <td>70</td>\n",
       "      <td>81</td>\n",
       "      <td>64</td>\n",
       "      <td>48</td>\n",
       "      <td>64</td>\n",
       "      <td>46</td>\n",
       "      <td>30</td>\n",
       "      <td>...</td>\n",
       "      <td>-109</td>\n",
       "      <td>-113</td>\n",
       "      <td>-77</td>\n",
       "      <td>-120</td>\n",
       "      <td>-102</td>\n",
       "      <td>-71</td>\n",
       "      <td>-110</td>\n",
       "      <td>-128</td>\n",
       "      <td>-100</td>\n",
       "      <td>117</td>\n",
       "    </tr>\n",
       "  </tbody>\n",
       "</table>\n",
       "<p>5 rows × 3072 columns</p>\n",
       "</div>"
      ],
      "text/plain": [
       "   Pixel_0  Pixel_1  Pixel_2  Pixel_3  Pixel_4  Pixel_5  Pixel_6  Pixel_7  \\\n",
       "0      -98      112       49      -97      111       47      -91      116   \n",
       "1      -21      -21      -21      -25      -25      -25      -24      -24   \n",
       "2      -98      -66      -34      -98      -69      -38     -117      -90   \n",
       "3     -101     -100     -107      -89      -80      -69      -80      -77   \n",
       "4       65       68       50       70       81       64       48       64   \n",
       "\n",
       "   Pixel_8  Pixel_9  ...  Pixel_3062  Pixel_3063  Pixel_3064  Pixel_3065  \\\n",
       "0       51      -90  ...        -111          24          77         124   \n",
       "1      -24      -24  ...         -93         -88         -73         -78   \n",
       "2      -62     -124  ...          37           5           6           8   \n",
       "3      -63      -66  ...          53          60          63          50   \n",
       "4       46       30  ...        -109        -113         -77        -120   \n",
       "\n",
       "   Pixel_3066  Pixel_3067  Pixel_3068  Pixel_3069  Pixel_3070  Pixel_3071  \n",
       "0          34          84        -127          21          67         110  \n",
       "1         -76         -61         -65         -70         -56         -57  \n",
       "2           4           5           3           7           8           7  \n",
       "3          64          65          52          73          68          50  \n",
       "4        -102         -71        -110        -128        -100         117  \n",
       "\n",
       "[5 rows x 3072 columns]"
      ]
     },
     "execution_count": 57,
     "metadata": {},
     "output_type": "execute_result"
    }
   ],
   "source": [
    "df.head(5)   #Display the shape and the first 5 rows of the DataFrame"
   ]
  },
  {
   "cell_type": "code",
   "execution_count": 55,
   "id": "f788c2f0",
   "metadata": {},
   "outputs": [
    {
     "data": {
      "text/plain": [
       "2"
      ]
     },
     "execution_count": 55,
     "metadata": {},
     "output_type": "execute_result"
    }
   ],
   "source": [
    "df.ndim    #Check dimensionality of data frame"
   ]
  },
  {
   "cell_type": "code",
   "execution_count": null,
   "id": "dfdabd1a",
   "metadata": {},
   "outputs": [],
   "source": []
  }
 ],
 "metadata": {
  "kernelspec": {
   "display_name": "Python 3 (ipykernel)",
   "language": "python",
   "name": "python3"
  },
  "language_info": {
   "codemirror_mode": {
    "name": "ipython",
    "version": 3
   },
   "file_extension": ".py",
   "mimetype": "text/x-python",
   "name": "python",
   "nbconvert_exporter": "python",
   "pygments_lexer": "ipython3",
   "version": "3.9.13"
  }
 },
 "nbformat": 4,
 "nbformat_minor": 5
}
