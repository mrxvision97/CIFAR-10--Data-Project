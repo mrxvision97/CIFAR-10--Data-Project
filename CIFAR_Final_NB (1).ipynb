{
 "cells": [
  {
   "cell_type": "markdown",
   "id": "49909611",
   "metadata": {},
   "source": [
    "# CIFAR-10 Dataset"
   ]
  },
  {
   "cell_type": "markdown",
   "id": "176cd4e2",
   "metadata": {},
   "source": [
    "Importing Necessary Libraries"
   ]
  },
  {
   "cell_type": "code",
   "execution_count": 1,
   "id": "716b5236",
   "metadata": {},
   "outputs": [],
   "source": [
    "import matplotlib.pyplot as plt\n",
    "import numpy as np\n",
    "import pandas as pd\n",
    "\n",
    "import warnings\n",
    "warnings.filterwarnings('ignore')\n"
   ]
  },
  {
   "cell_type": "code",
   "execution_count": 2,
   "id": "4d13e5ed",
   "metadata": {},
   "outputs": [],
   "source": [
    "def unpickle(file):\n",
    "    import pickle\n",
    "    with open(file, 'rb') as fo:\n",
    "        data = pickle.load(fo, encoding='bytes')\n",
    "    return data\n"
   ]
  },
  {
   "cell_type": "code",
   "execution_count": 3,
   "id": "0813f075",
   "metadata": {},
   "outputs": [
    {
     "data": {
      "text/plain": [
       "['.ipynb_checkpoints',\n",
       " 'Data Batch_1.ipynb',\n",
       " 'Data Batch_5.ipynb',\n",
       " 'data_batch_1',\n",
       " 'data_batch_2',\n",
       " 'data_batch_3',\n",
       " 'data_batch_4',\n",
       " 'data_batch_5',\n",
       " 'Optimized_code (1).ipynb',\n",
       " 'readme.html',\n",
       " 'test_batch']"
      ]
     },
     "execution_count": 3,
     "metadata": {},
     "output_type": "execute_result"
    }
   ],
   "source": [
    "# List all files and folders in current folder\n",
    "import os\n",
    "\n",
    "os.listdir() "
   ]
  },
  {
   "cell_type": "code",
   "execution_count": 6,
   "id": "04f70ab0",
   "metadata": {},
   "outputs": [],
   "source": [
    "import pickle\n",
    "import numpy as np\n",
    "import pandas as pd\n",
    "\n",
    "\n",
    "# Initializing empty lists to store images, labels, and other data\n",
    "cf_images = []\n",
    "cf_labels = []"
   ]
  },
  {
   "cell_type": "code",
   "execution_count": 7,
   "id": "fd18a34a",
   "metadata": {},
   "outputs": [],
   "source": [
    "# List out all available file in current directory for work to unpickle\n",
    "\n",
    "data_files = ['data_batch_1', 'data_batch_2', 'data_batch_3', 'data_batch_4', 'data_batch_5','test_batch']  \n"
   ]
  },
  {
   "cell_type": "code",
   "execution_count": 8,
   "id": "e4a99f36",
   "metadata": {},
   "outputs": [],
   "source": [
    "#  use for Loop through the filenames and unpicking each file\n",
    "for filename in data_files:\n",
    "    with open(filename, 'rb') as file:\n",
    "        data_batch = pickle.load(file, encoding='bytes')\n",
    "        \n",
    "\n",
    "        # Extracting images and labels from the data_batch\n",
    "        img = data_batch[b'data']\n",
    "        labels = data_batch[b'labels']\n",
    "        \n",
    "        \n",
    "         # Appending the images and labels into the empty list\n",
    "        cf_images.append(img)\n",
    "        \n",
    "        cf_labels.extend(labels)"
   ]
  },
  {
   "cell_type": "code",
   "execution_count": 32,
   "id": "5ec6840a",
   "metadata": {},
   "outputs": [],
   "source": [
    "# Concatenating  all the images of a data_batch into a single NumPy array\n",
    "\n",
    "cf_images = np.concatenate(cf_images, axis=0)"
   ]
  },
  {
   "cell_type": "code",
   "execution_count": 33,
   "id": "d072caf1",
   "metadata": {},
   "outputs": [],
   "source": [
    "# Reshaping the image data to  one column per pixel  (RGB)\n",
    "\n",
    "cf_images = cf_images.reshape(-1, 3, 32, 32).transpose(0, 2, 3, 1)  "
   ]
  },
  {
   "cell_type": "code",
   "execution_count": 34,
   "id": "94d42ac6",
   "metadata": {},
   "outputs": [],
   "source": [
    "# Flatten the image arrays to store them as pixel values\n",
    "cf_images = cf_images.reshape(-1, 32 * 32 * 3)\n",
    "\n",
    "# Create a DataFrame to store the data\n",
    "data = pd.DataFrame()\n"
   ]
  },
  {
   "cell_type": "code",
   "execution_count": 36,
   "id": "aea088cf",
   "metadata": {},
   "outputs": [],
   "source": [
    "# Add lables and its corresponding pixel value\n",
    "for i in range(32 * 32 * 3):\n",
    "    data[f'Pixel_{i + 1}'] = cf_images[:, i]\n",
    "\n",
    "data['Label'] = cf_labels\n"
   ]
  },
  {
   "cell_type": "code",
   "execution_count": 37,
   "id": "9ee00875",
   "metadata": {},
   "outputs": [
    {
     "name": "stdout",
     "output_type": "stream",
     "text": [
      "Shape of the first image in data_batch_1: (3072,)\n",
      "Dimensions of the first image in data_batch_1: 1\n",
      "Shape of the first image in data_batch_2: (3072,)\n",
      "Dimensions of the first image in data_batch_2: 1\n",
      "Shape of the first image in data_batch_3: (3072,)\n",
      "Dimensions of the first image in data_batch_3: 1\n",
      "Shape of the first image in data_batch_4: (3072,)\n",
      "Dimensions of the first image in data_batch_4: 1\n",
      "Shape of the first image in data_batch_5: (3072,)\n",
      "Dimensions of the first image in data_batch_5: 1\n",
      "Shape of the first image in test_batch: (3072,)\n",
      "Dimensions of the first image in test_batch: 1\n"
     ]
    }
   ],
   "source": [
    "# Iterating through the first image of each data batch\n",
    "for i in range(len(data_files)):\n",
    "    fs_image = cf_images[i]  # Get the first image from the ith data batch\n",
    "    \n",
    "    # Print the shape and dimensions of the first image\n",
    "    print(f\"Shape of the first image in {data_files[i]}: {fs_image.shape}\")\n",
    "    print(f\"Dimensions of the first image in {data_files[i]}: {fs_image.ndim}\")\n"
   ]
  },
  {
   "cell_type": "code",
   "execution_count": 38,
   "id": "bf374058",
   "metadata": {},
   "outputs": [
    {
     "data": {
      "text/plain": [
       "(60000, 3073)"
      ]
     },
     "execution_count": 38,
     "metadata": {},
     "output_type": "execute_result"
    }
   ],
   "source": [
    "data.shape  # shape of the updated data"
   ]
  },
  {
   "cell_type": "code",
   "execution_count": 40,
   "id": "25d12b9a",
   "metadata": {},
   "outputs": [
    {
     "data": {
      "text/html": [
       "<div>\n",
       "<style scoped>\n",
       "    .dataframe tbody tr th:only-of-type {\n",
       "        vertical-align: middle;\n",
       "    }\n",
       "\n",
       "    .dataframe tbody tr th {\n",
       "        vertical-align: top;\n",
       "    }\n",
       "\n",
       "    .dataframe thead th {\n",
       "        text-align: right;\n",
       "    }\n",
       "</style>\n",
       "<table border=\"1\" class=\"dataframe\">\n",
       "  <thead>\n",
       "    <tr style=\"text-align: right;\">\n",
       "      <th></th>\n",
       "      <th>Pixel_1</th>\n",
       "      <th>Pixel_2</th>\n",
       "      <th>Pixel_3</th>\n",
       "      <th>Pixel_4</th>\n",
       "      <th>Pixel_5</th>\n",
       "      <th>Pixel_6</th>\n",
       "      <th>Pixel_7</th>\n",
       "      <th>Pixel_8</th>\n",
       "      <th>Pixel_9</th>\n",
       "      <th>Pixel_10</th>\n",
       "      <th>...</th>\n",
       "      <th>Pixel_3064</th>\n",
       "      <th>Pixel_3065</th>\n",
       "      <th>Pixel_3066</th>\n",
       "      <th>Pixel_3067</th>\n",
       "      <th>Pixel_3068</th>\n",
       "      <th>Pixel_3069</th>\n",
       "      <th>Pixel_3070</th>\n",
       "      <th>Pixel_3071</th>\n",
       "      <th>Pixel_3072</th>\n",
       "      <th>Label</th>\n",
       "    </tr>\n",
       "  </thead>\n",
       "  <tbody>\n",
       "    <tr>\n",
       "      <th>0</th>\n",
       "      <td>59</td>\n",
       "      <td>62</td>\n",
       "      <td>63</td>\n",
       "      <td>43</td>\n",
       "      <td>46</td>\n",
       "      <td>45</td>\n",
       "      <td>50</td>\n",
       "      <td>48</td>\n",
       "      <td>43</td>\n",
       "      <td>68</td>\n",
       "      <td>...</td>\n",
       "      <td>216</td>\n",
       "      <td>184</td>\n",
       "      <td>140</td>\n",
       "      <td>151</td>\n",
       "      <td>118</td>\n",
       "      <td>84</td>\n",
       "      <td>123</td>\n",
       "      <td>92</td>\n",
       "      <td>72</td>\n",
       "      <td>6</td>\n",
       "    </tr>\n",
       "    <tr>\n",
       "      <th>1</th>\n",
       "      <td>154</td>\n",
       "      <td>177</td>\n",
       "      <td>187</td>\n",
       "      <td>126</td>\n",
       "      <td>137</td>\n",
       "      <td>136</td>\n",
       "      <td>105</td>\n",
       "      <td>104</td>\n",
       "      <td>95</td>\n",
       "      <td>102</td>\n",
       "      <td>...</td>\n",
       "      <td>143</td>\n",
       "      <td>133</td>\n",
       "      <td>139</td>\n",
       "      <td>143</td>\n",
       "      <td>134</td>\n",
       "      <td>142</td>\n",
       "      <td>143</td>\n",
       "      <td>133</td>\n",
       "      <td>144</td>\n",
       "      <td>9</td>\n",
       "    </tr>\n",
       "    <tr>\n",
       "      <th>2</th>\n",
       "      <td>255</td>\n",
       "      <td>255</td>\n",
       "      <td>255</td>\n",
       "      <td>253</td>\n",
       "      <td>253</td>\n",
       "      <td>253</td>\n",
       "      <td>253</td>\n",
       "      <td>253</td>\n",
       "      <td>253</td>\n",
       "      <td>253</td>\n",
       "      <td>...</td>\n",
       "      <td>78</td>\n",
       "      <td>85</td>\n",
       "      <td>83</td>\n",
       "      <td>79</td>\n",
       "      <td>85</td>\n",
       "      <td>83</td>\n",
       "      <td>80</td>\n",
       "      <td>86</td>\n",
       "      <td>84</td>\n",
       "      <td>9</td>\n",
       "    </tr>\n",
       "  </tbody>\n",
       "</table>\n",
       "<p>3 rows × 3073 columns</p>\n",
       "</div>"
      ],
      "text/plain": [
       "   Pixel_1  Pixel_2  Pixel_3  Pixel_4  Pixel_5  Pixel_6  Pixel_7  Pixel_8  \\\n",
       "0       59       62       63       43       46       45       50       48   \n",
       "1      154      177      187      126      137      136      105      104   \n",
       "2      255      255      255      253      253      253      253      253   \n",
       "\n",
       "   Pixel_9  Pixel_10  ...  Pixel_3064  Pixel_3065  Pixel_3066  Pixel_3067  \\\n",
       "0       43        68  ...         216         184         140         151   \n",
       "1       95       102  ...         143         133         139         143   \n",
       "2      253       253  ...          78          85          83          79   \n",
       "\n",
       "   Pixel_3068  Pixel_3069  Pixel_3070  Pixel_3071  Pixel_3072  Label  \n",
       "0         118          84         123          92          72      6  \n",
       "1         134         142         143         133         144      9  \n",
       "2          85          83          80          86          84      9  \n",
       "\n",
       "[3 rows x 3073 columns]"
      ]
     },
     "execution_count": 40,
     "metadata": {},
     "output_type": "execute_result"
    }
   ],
   "source": [
    "data.head(3)"
   ]
  },
  {
   "cell_type": "code",
   "execution_count": 42,
   "id": "32925428",
   "metadata": {},
   "outputs": [],
   "source": [
    " data.to_csv('CIFAR_final.csv', index=False)\n"
   ]
  },
  {
   "cell_type": "code",
   "execution_count": null,
   "id": "6c32a838",
   "metadata": {},
   "outputs": [],
   "source": []
  }
 ],
 "metadata": {
  "kernelspec": {
   "display_name": "Python 3 (ipykernel)",
   "language": "python",
   "name": "python3"
  },
  "language_info": {
   "codemirror_mode": {
    "name": "ipython",
    "version": 3
   },
   "file_extension": ".py",
   "mimetype": "text/x-python",
   "name": "python",
   "nbconvert_exporter": "python",
   "pygments_lexer": "ipython3",
   "version": "3.9.13"
  }
 },
 "nbformat": 4,
 "nbformat_minor": 5
}
